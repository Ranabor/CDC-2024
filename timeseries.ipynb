{
 "cells": [
  {
   "cell_type": "code",
   "execution_count": 7,
   "metadata": {},
   "outputs": [
    {
     "name": "stderr",
     "output_type": "stream",
     "text": [
      "Matplotlib is building the font cache; this may take a moment.\n"
     ]
    }
   ],
   "source": [
    "import pandas as pd\n",
    "import matplotlib.pyplot as plt\n",
    "from sklearn.model_selection import TimeSeriesSplit\n",
    "from sklearn.linear_model import LinearRegression\n",
    "from sklearn.preprocessing import StandardScaler\n",
    "from sklearn.metrics import mean_squared_error\n",
    "import numpy as np"
   ]
  },
  {
   "cell_type": "code",
   "execution_count": 18,
   "metadata": {},
   "outputs": [
    {
     "name": "stderr",
     "output_type": "stream",
     "text": [
      "/var/folders/5c/qd01_yk1187_jnr7n7jjw5m00000gn/T/ipykernel_10934/3622479328.py:1: DtypeWarning: Columns (20,21) have mixed types. Specify dtype option on import or set low_memory=False.\n",
      "  df = pd.read_csv('data/Business_Dataset.csv')\n",
      "/var/folders/5c/qd01_yk1187_jnr7n7jjw5m00000gn/T/ipykernel_10934/3622479328.py:8: DeprecationWarning: DataFrameGroupBy.apply operated on the grouping columns. This behavior is deprecated, and in a future version of pandas the grouping columns will be excluded from the operation. Either pass `include_groups=False` to exclude the groupings or explicitly select the grouping columns after groupby to silence this warning.\n",
      "  inbounds = df.groupby('airport_2', group_keys=False).apply(sort_group)\n"
     ]
    },
    {
     "name": "stdout",
     "output_type": "stream",
     "text": [
      "<class 'pandas.core.groupby.generic.DataFrameGroupBy'>\n"
     ]
    },
    {
     "name": "stderr",
     "output_type": "stream",
     "text": [
      "/var/folders/5c/qd01_yk1187_jnr7n7jjw5m00000gn/T/ipykernel_10934/3622479328.py:9: DeprecationWarning: DataFrameGroupBy.apply operated on the grouping columns. This behavior is deprecated, and in a future version of pandas the grouping columns will be excluded from the operation. Either pass `include_groups=False` to exclude the groupings or explicitly select the grouping columns after groupby to silence this warning.\n",
      "  outbounds = df.groupby('airport_1', group_keys=False).apply(sort_group)\n"
     ]
    }
   ],
   "source": [
    "df = pd.read_csv('data/Business_Dataset.csv')\n",
    "\n",
    "def sort_group(group):\n",
    "    group = group[(group['Year'] > 1995) & ~np.isin(group[\"Year\"], [2020, 2021, 2024])]\n",
    "    group = group.sort_values(by=['Year', 'quarter'])\n",
    "    return group\n",
    "\n",
    "inbounds = df.groupby('airport_2', group_keys=False).apply(sort_group)\n",
    "outbounds = df.groupby('airport_1', group_keys=False).apply(sort_group)\n",
    "\n",
    "inbounds = inbounds.groupby('airport_1')\n",
    "for key, item in inbounds:\n",
    "    print(inbounds.get_group(key), \"\\n\\n\")"
   ]
  },
  {
   "cell_type": "code",
   "execution_count": null,
   "metadata": {},
   "outputs": [],
   "source": [
    "data['date'] = pd.to_datetime(data['Year'].astype(str) + 'Q' + data['quarter'].astype(str))\n",
    "data.set_index('date', inplace=True)\n",
    "\n",
    "features = ['nsmiles', 'fare', 'large_ms', 'lf_ms']\n",
    "target = 'passengers'\n",
    "\n",
    "X = data[features]\n",
    "y = data[target]\n",
    "\n",
    "scaler = StandardScaler()\n",
    "X_scaled = scaler.fit_transform(X)\n",
    "\n",
    "tscv = TimeSeriesSplit(n_splits=5)\n",
    "\n",
    "for train_index, test_index in tscv.split(X_scaled):\n",
    "    X_train, X_test = X_scaled[train_index], X_scaled[test_index]\n",
    "    y_train, y_test = y[train_index], y[test_index]\n",
    "\n",
    "    model = LinearRegression()\n",
    "    model.fit(X_train, y_train)\n",
    "    y_pred = model.predict(X_test)\n",
    "\n",
    "    mse = mean_squared_error(y_test, y_pred)\n",
    "    print(f'Mean Squared Error: {mse}')\n",
    "\n",
    "    plt.plot(y_test.index, y_test, label='Actual')\n",
    "    plt.plot(y_test.index, y_pred, label='Predicted', linestyle='--')\n",
    "    plt.legend()\n",
    "    plt.show()\n"
   ]
  }
 ],
 "metadata": {
  "kernelspec": {
   "display_name": "pioneer",
   "language": "python",
   "name": "python3"
  },
  "language_info": {
   "codemirror_mode": {
    "name": "ipython",
    "version": 3
   },
   "file_extension": ".py",
   "mimetype": "text/x-python",
   "name": "python",
   "nbconvert_exporter": "python",
   "pygments_lexer": "ipython3",
   "version": "3.9.19"
  }
 },
 "nbformat": 4,
 "nbformat_minor": 2
}
